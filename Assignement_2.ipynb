{
  "nbformat": 4,
  "nbformat_minor": 0,
  "metadata": {
    "colab": {
      "provenance": [],
      "authorship_tag": "ABX9TyOYmPyQdXc7OIOInn81bAGH",
      "include_colab_link": true
    },
    "kernelspec": {
      "name": "python3",
      "display_name": "Python 3"
    },
    "language_info": {
      "name": "python"
    }
  },
  "cells": [
    {
      "cell_type": "markdown",
      "metadata": {
        "id": "view-in-github",
        "colab_type": "text"
      },
      "source": [
        "<a href=\"https://colab.research.google.com/github/sofia-lemeuthaddadi/lanching-soon/blob/main/Assignement_2.ipynb\" target=\"_parent\"><img src=\"https://colab.research.google.com/assets/colab-badge.svg\" alt=\"Open In Colab\"/></a>"
      ]
    },
    {
      "cell_type": "code",
      "execution_count": 921,
      "metadata": {
        "colab": {
          "base_uri": "https://localhost:8080/",
          "height": 0
        },
        "id": "A_3MXvMVKVl4",
        "outputId": "60fab4f6-1cf2-455b-a9e1-122b29605866"
      },
      "outputs": [
        {
          "output_type": "stream",
          "name": "stdout",
          "text": [
            "Requirement already satisfied: ucimlrepo in /usr/local/lib/python3.11/dist-packages (0.0.7)\n",
            "Requirement already satisfied: pandas>=1.0.0 in /usr/local/lib/python3.11/dist-packages (from ucimlrepo) (2.2.2)\n",
            "Requirement already satisfied: certifi>=2020.12.5 in /usr/local/lib/python3.11/dist-packages (from ucimlrepo) (2024.12.14)\n",
            "Requirement already satisfied: numpy>=1.23.2 in /usr/local/lib/python3.11/dist-packages (from pandas>=1.0.0->ucimlrepo) (1.26.4)\n",
            "Requirement already satisfied: python-dateutil>=2.8.2 in /usr/local/lib/python3.11/dist-packages (from pandas>=1.0.0->ucimlrepo) (2.8.2)\n",
            "Requirement already satisfied: pytz>=2020.1 in /usr/local/lib/python3.11/dist-packages (from pandas>=1.0.0->ucimlrepo) (2024.2)\n",
            "Requirement already satisfied: tzdata>=2022.7 in /usr/local/lib/python3.11/dist-packages (from pandas>=1.0.0->ucimlrepo) (2024.2)\n",
            "Requirement already satisfied: six>=1.5 in /usr/local/lib/python3.11/dist-packages (from python-dateutil>=2.8.2->pandas>=1.0.0->ucimlrepo) (1.17.0)\n"
          ]
        }
      ],
      "source": [
        "pip install ucimlrepo"
      ]
    },
    {
      "cell_type": "code",
      "source": [
        "from ucimlrepo import fetch_ucirepo\n",
        "\n",
        "# fetch dataset\n",
        "breast_cancer = fetch_ucirepo(id=14)\n",
        "\n",
        "# data (as pandas dataframes)\n",
        "X = breast_cancer.data.features\n",
        "y = breast_cancer.data.targets\n",
        "\n",
        "# metadata\n",
        "print(breast_cancer.metadata)\n",
        "\n",
        "# variable information\n",
        "print(breast_cancer.variables)\n"
      ],
      "metadata": {
        "colab": {
          "base_uri": "https://localhost:8080/",
          "height": 0
        },
        "id": "iQyrN2COM67C",
        "outputId": "0c073487-813c-41a5-814a-107cb82fc591"
      },
      "execution_count": 922,
      "outputs": [
        {
          "output_type": "stream",
          "name": "stdout",
          "text": [
            "{'uci_id': 14, 'name': 'Breast Cancer', 'repository_url': 'https://archive.ics.uci.edu/dataset/14/breast+cancer', 'data_url': 'https://archive.ics.uci.edu/static/public/14/data.csv', 'abstract': 'This breast cancer domain was obtained from the University Medical Centre, Institute of Oncology, Ljubljana, Yugoslavia. This is one of three domains provided by the Oncology Institute that has repeatedly appeared in the machine learning literature. (See also lymphography and primary-tumor.)', 'area': 'Health and Medicine', 'tasks': ['Classification'], 'characteristics': ['Multivariate'], 'num_instances': 286, 'num_features': 9, 'feature_types': ['Categorical'], 'demographics': ['Age'], 'target_col': ['Class'], 'index_col': None, 'has_missing_values': 'yes', 'missing_values_symbol': 'NaN', 'year_of_dataset_creation': 1988, 'last_updated': 'Thu Mar 07 2024', 'dataset_doi': '10.24432/C51P4M', 'creators': ['Matjaz Zwitter', 'Milan Soklic'], 'intro_paper': None, 'additional_info': {'summary': 'This data set includes 201 instances of one class and 85 instances of another class.  The instances are described by 9 attributes, some of which are linear and some are nominal.\\n', 'purpose': None, 'funded_by': None, 'instances_represent': None, 'recommended_data_splits': None, 'sensitive_data': None, 'preprocessing_description': None, 'variable_info': '   1. Class: no-recurrence-events, recurrence-events\\r\\n   2. age: 10-19, 20-29, 30-39, 40-49, 50-59, 60-69, 70-79, 80-89, 90-99.\\r\\n   3. menopause: lt40, ge40, premeno.\\r\\n   4. tumor-size: 0-4, 5-9, 10-14, 15-19, 20-24, 25-29, 30-34, 35-39, 40-44, 45-49, 50-54, 55-59.\\r\\n   5. inv-nodes: 0-2, 3-5, 6-8, 9-11, 12-14, 15-17, 18-20, 21-23, 24-26, 27-29, 30-32, 33-35, 36-39.\\r\\n   6. node-caps: yes, no.\\r\\n   7. deg-malig: 1, 2, 3.\\r\\n   8. breast: left, right.\\r\\n   9. breast-quad: left-up, left-low, right-up,\\tright-low, central.\\r\\n  10. irradiat:\\tyes, no.', 'citation': 'Obtained from the University Medical Centre, Institute of Oncology, Ljubljana, Yugoslavia.  Thanks go to M. Zwitter and M. Soklic for providing the data.  Please include this citation if you plan to use this database:\\nMatjaz Zwitter & Milan Soklic (physicians)\\nInstitute of Oncology \\nUniversity Medical Center\\nLjubljana, Yugoslavia'}}\n",
            "          name     role         type demographic  \\\n",
            "0        Class   Target       Binary        None   \n",
            "1          age  Feature  Categorical         Age   \n",
            "2    menopause  Feature  Categorical        None   \n",
            "3   tumor-size  Feature  Categorical        None   \n",
            "4    inv-nodes  Feature  Categorical        None   \n",
            "5    node-caps  Feature       Binary        None   \n",
            "6    deg-malig  Feature      Integer        None   \n",
            "7       breast  Feature       Binary        None   \n",
            "8  breast-quad  Feature  Categorical        None   \n",
            "9     irradiat  Feature       Binary        None   \n",
            "\n",
            "                                         description  units missing_values  \n",
            "0            no-recurrence-events, recurrence-events   None             no  \n",
            "1  10-19, 20-29, 30-39, 40-49, 50-59, 60-69, 70-7...  years             no  \n",
            "2                                lt40, ge40, premeno   None             no  \n",
            "3  0-4, 5-9, 10-14, 15-19, 20-24, 25-29, 30-34, 3...   None             no  \n",
            "4   0-2, 3-5, 6-8, 9-11, 12-14, 15-17, 18-20, 21-...   None             no  \n",
            "5                                            yes, no   None            yes  \n",
            "6                                            1, 2, 3   None             no  \n",
            "7                                        left, right   None             no  \n",
            "8   left-up, left-low, right-up,\\tright-low, central   None            yes  \n",
            "9                                            yes, no   None             no  \n"
          ]
        }
      ]
    },
    {
      "cell_type": "code",
      "source": [
        "print(breast_cancer.data.features.info())"
      ],
      "metadata": {
        "colab": {
          "base_uri": "https://localhost:8080/",
          "height": 0
        },
        "id": "KI6S-7WeOWdl",
        "outputId": "cace64d7-b831-4049-f0cf-55f0b8444fec"
      },
      "execution_count": 923,
      "outputs": [
        {
          "output_type": "stream",
          "name": "stdout",
          "text": [
            "<class 'pandas.core.frame.DataFrame'>\n",
            "RangeIndex: 286 entries, 0 to 285\n",
            "Data columns (total 9 columns):\n",
            " #   Column       Non-Null Count  Dtype \n",
            "---  ------       --------------  ----- \n",
            " 0   age          286 non-null    object\n",
            " 1   menopause    286 non-null    object\n",
            " 2   tumor-size   286 non-null    object\n",
            " 3   inv-nodes    286 non-null    object\n",
            " 4   node-caps    278 non-null    object\n",
            " 5   deg-malig    286 non-null    int64 \n",
            " 6   breast       286 non-null    object\n",
            " 7   breast-quad  285 non-null    object\n",
            " 8   irradiat     286 non-null    object\n",
            "dtypes: int64(1), object(8)\n",
            "memory usage: 20.2+ KB\n",
            "None\n"
          ]
        }
      ]
    },
    {
      "cell_type": "code",
      "source": [
        "print(\"\\nShape of Features (X):\", X.shape)  # Number of rows and columns\n",
        "print(\"Shape of Target (y):\", y.shape)  # Target variable size\n",
        "print(\"\\nFirst 5 Rows of Features:\\n\", X.head())  # Preview the dataset\n",
        "print(\"\\nFirst 5 Target Values:\\n\", y[:5])  # Preview the target variable"
      ],
      "metadata": {
        "colab": {
          "base_uri": "https://localhost:8080/",
          "height": 0
        },
        "id": "Kni18DNfNOZV",
        "outputId": "d1c367aa-7e04-41a5-b3b1-650e4c07053b"
      },
      "execution_count": 924,
      "outputs": [
        {
          "output_type": "stream",
          "name": "stdout",
          "text": [
            "\n",
            "Shape of Features (X): (286, 9)\n",
            "Shape of Target (y): (286, 1)\n",
            "\n",
            "First 5 Rows of Features:\n",
            "      age menopause tumor-size inv-nodes node-caps  deg-malig breast  \\\n",
            "0  30-39   premeno      30-34       0-2        no          3   left   \n",
            "1  40-49   premeno      20-24       0-2        no          2  right   \n",
            "2  40-49   premeno      20-24       0-2        no          2   left   \n",
            "3  60-69      ge40      15-19       0-2        no          2  right   \n",
            "4  40-49   premeno        0-4       0-2        no          2  right   \n",
            "\n",
            "  breast-quad irradiat  \n",
            "0    left_low       no  \n",
            "1    right_up       no  \n",
            "2    left_low       no  \n",
            "3     left_up       no  \n",
            "4   right_low       no  \n",
            "\n",
            "First 5 Target Values:\n",
            "                   Class\n",
            "0  no-recurrence-events\n",
            "1  no-recurrence-events\n",
            "2  no-recurrence-events\n",
            "3  no-recurrence-events\n",
            "4  no-recurrence-events\n"
          ]
        }
      ]
    },
    {
      "cell_type": "markdown",
      "source": [
        "*   age: The age of the patient.\n",
        "*   menopause: Menopause status (e.g., pre-menopause, post-menopause)\n",
        "*   tumor-size: The size of the tumor.\n",
        "*   inv-nodes: Number of involved lymph nodes.\n",
        "*   node-caps: Presence of node capsule (e.g., \"yes\", \"no\").\n",
        "*   deg-malig: Degree of malignancy (numerical).\n",
        "*   breast: The breast affected (e.g., \"left\", \"right\").\n",
        "*   breast-quad: Quadrant of the breast affected.\n",
        "*   irradiat: Whether the patient received radiation therapy.\n"
      ],
      "metadata": {
        "id": "3Z8ZLyzkTh5M"
      }
    },
    {
      "cell_type": "code",
      "source": [
        "print(X.isnull().sum())"
      ],
      "metadata": {
        "colab": {
          "base_uri": "https://localhost:8080/",
          "height": 0
        },
        "id": "cexBbuItN_K8",
        "outputId": "e47dc2cb-5183-43bd-f2c2-6892038dffa3"
      },
      "execution_count": 925,
      "outputs": [
        {
          "output_type": "stream",
          "name": "stdout",
          "text": [
            "age            0\n",
            "menopause      0\n",
            "tumor-size     0\n",
            "inv-nodes      0\n",
            "node-caps      8\n",
            "deg-malig      0\n",
            "breast         0\n",
            "breast-quad    1\n",
            "irradiat       0\n",
            "dtype: int64\n"
          ]
        }
      ]
    },
    {
      "cell_type": "code",
      "source": [
        "# Print the entire 'node-caps' column\n",
        "print(X['node-caps'])\n"
      ],
      "metadata": {
        "colab": {
          "base_uri": "https://localhost:8080/",
          "height": 0
        },
        "id": "nTYCmL7Dcv2y",
        "outputId": "c1df68ce-37ee-44aa-b31f-b2a423be8da2"
      },
      "execution_count": 926,
      "outputs": [
        {
          "output_type": "stream",
          "name": "stdout",
          "text": [
            "0      no\n",
            "1      no\n",
            "2      no\n",
            "3      no\n",
            "4      no\n",
            "       ..\n",
            "281    no\n",
            "282    no\n",
            "283    no\n",
            "284    no\n",
            "285    no\n",
            "Name: node-caps, Length: 286, dtype: object\n"
          ]
        }
      ]
    },
    {
      "cell_type": "code",
      "source": [
        "# Print only the missing values in the 'node-caps' column\n",
        "print(X[X['node-caps'].isnull()])\n"
      ],
      "metadata": {
        "colab": {
          "base_uri": "https://localhost:8080/",
          "height": 0
        },
        "id": "oxZM2M5-cyND",
        "outputId": "2fab7ef1-6bb8-4799-c455-4d29a4a46d21"
      },
      "execution_count": 927,
      "outputs": [
        {
          "output_type": "stream",
          "name": "stdout",
          "text": [
            "       age menopause tumor-size inv-nodes node-caps  deg-malig breast  \\\n",
            "145  40-49   premeno      25-29       0-2       NaN          2   left   \n",
            "163  60-69      ge40      25-29     5-Mar       NaN          1  right   \n",
            "164  60-69      ge40      25-29     5-Mar       NaN          1  right   \n",
            "183  50-59      ge40      30-34    11-Sep       NaN          3   left   \n",
            "184  50-59      ge40      30-34    11-Sep       NaN          3   left   \n",
            "233  70-79      ge40      15-19    11-Sep       NaN          1   left   \n",
            "263  50-59      lt40      20-24       0-2       NaN          1   left   \n",
            "264  50-59      lt40      20-24       0-2       NaN          1   left   \n",
            "\n",
            "    breast-quad irradiat  \n",
            "145   right_low      yes  \n",
            "163     left_up      yes  \n",
            "164    left_low      yes  \n",
            "183     left_up      yes  \n",
            "184    left_low      yes  \n",
            "233    left_low      yes  \n",
            "263     left_up       no  \n",
            "264    left_low       no  \n"
          ]
        }
      ]
    },
    {
      "cell_type": "code",
      "source": [
        "# Print the proportions of the answers in the 'node-caps' column\n",
        "print(X['node-caps'].value_counts(normalize=True))\n"
      ],
      "metadata": {
        "colab": {
          "base_uri": "https://localhost:8080/",
          "height": 0
        },
        "id": "xmt7yo-fd8rd",
        "outputId": "9c5f5d1c-ff8f-4b25-b143-5f92dd37868d"
      },
      "execution_count": 928,
      "outputs": [
        {
          "output_type": "stream",
          "name": "stdout",
          "text": [
            "node-caps\n",
            "no     0.798561\n",
            "yes    0.201439\n",
            "Name: proportion, dtype: float64\n"
          ]
        }
      ]
    },
    {
      "cell_type": "markdown",
      "source": [
        "node-caps: 8 missing values.\n",
        "breast-quad: 1 missing value."
      ],
      "metadata": {
        "id": "HqU9ohFLUIKa"
      }
    },
    {
      "cell_type": "code",
      "source": [
        "print(X.describe())"
      ],
      "metadata": {
        "colab": {
          "base_uri": "https://localhost:8080/",
          "height": 0
        },
        "id": "G4esTaPROBLD",
        "outputId": "6aebc4a9-96ee-4912-fa05-668e1cc4566c"
      },
      "execution_count": 929,
      "outputs": [
        {
          "output_type": "stream",
          "name": "stdout",
          "text": [
            "        deg-malig\n",
            "count  286.000000\n",
            "mean     2.048951\n",
            "std      0.738217\n",
            "min      1.000000\n",
            "25%      2.000000\n",
            "50%      2.000000\n",
            "75%      3.000000\n",
            "max      3.000000\n"
          ]
        }
      ]
    },
    {
      "cell_type": "code",
      "source": [
        "print(X['irradiat'].value_counts())"
      ],
      "metadata": {
        "colab": {
          "base_uri": "https://localhost:8080/",
          "height": 0
        },
        "id": "yD8S19sKVvoQ",
        "outputId": "b0f70b70-b667-4742-bbdc-9b312942c53d"
      },
      "execution_count": 930,
      "outputs": [
        {
          "output_type": "stream",
          "name": "stdout",
          "text": [
            "irradiat\n",
            "no     218\n",
            "yes     68\n",
            "Name: count, dtype: int64\n"
          ]
        }
      ]
    },
    {
      "cell_type": "markdown",
      "source": [
        "The degree of malignancy (deg-malig) ranges from 1 (minimum) to 3 (maximum).\n",
        "\n",
        "The median is 2, suggesting that most values are clustered around 2.\n",
        "\n",
        "About 25% of the data is at the lowest malignancy (1), and about 25% is at the highest (3).\n",
        "\n",
        "The standard deviation (std = 0.738) indicates the values are moderately spread around the mean.\n",
        "\n",
        "Most values fall close to 2.05, the mean malignancy degree.\n",
        "\n",
        "Since the mean (2.05) is close to the median (2), the distribution is roughly symmetric, not heavily skewed."
      ],
      "metadata": {
        "id": "bTORTmhDQvPA"
      }
    },
    {
      "cell_type": "code",
      "source": [
        "import matplotlib.pyplot as plt\n",
        "y.value_counts().plot(kind='bar')\n",
        "plt.title('Target Variable Distribution')\n",
        "plt.show()"
      ],
      "metadata": {
        "colab": {
          "base_uri": "https://localhost:8080/",
          "height": 622
        },
        "id": "JktC-jjnODvr",
        "outputId": "70760381-7e18-4bba-f2ca-9f21b57a1a7b"
      },
      "execution_count": 931,
      "outputs": [
        {
          "output_type": "display_data",
          "data": {
            "text/plain": [
              "<Figure size 640x480 with 1 Axes>"
            ],
            "image/png": "[encoded data removed]"
          },
          "metadata": {}
        }
      ]
    },
    {
      "cell_type": "code",
      "source": [
        "# Check for missing values in 'node-caps'\n",
        "print(X['node-caps'].isnull().sum())\n",
        "\n",
        "# Check the unique values in 'node-caps'\n",
        "print(X['node-caps'].unique())\n"
      ],
      "metadata": {
        "colab": {
          "base_uri": "https://localhost:8080/",
          "height": 0
        },
        "id": "4BFUd1aicAU2",
        "outputId": "08560707-947b-459d-f968-899884de106f"
      },
      "execution_count": 932,
      "outputs": [
        {
          "output_type": "stream",
          "name": "stdout",
          "text": [
            "8\n",
            "['no' 'yes' nan]\n"
          ]
        }
      ]
    },
    {
      "cell_type": "code",
      "source": [
        "# Use .loc to modify the 'breast-quad' column safely\n",
        "X.loc[:, 'breast-quad'] = X['breast-quad'].fillna(X['breast-quad'].mode()[0])\n"
      ],
      "metadata": {
        "id": "33x_sgG1cfb_"
      },
      "execution_count": 933,
      "outputs": []
    },
    {
      "cell_type": "markdown",
      "source": [
        "Only 1 missing value = using the simplest approach"
      ],
      "metadata": {
        "id": "ubitKY6pXQQE"
      }
    },
    {
      "cell_type": "code",
      "source": [
        "print(X.isnull().sum())"
      ],
      "metadata": {
        "colab": {
          "base_uri": "https://localhost:8080/",
          "height": 0
        },
        "id": "KWvNU_DQYN4T",
        "outputId": "ed722254-2320-4495-be90-eb48fcb293cc"
      },
      "execution_count": 934,
      "outputs": [
        {
          "output_type": "stream",
          "name": "stdout",
          "text": [
            "age            0\n",
            "menopause      0\n",
            "tumor-size     0\n",
            "inv-nodes      0\n",
            "node-caps      8\n",
            "deg-malig      0\n",
            "breast         0\n",
            "breast-quad    0\n",
            "irradiat       0\n",
            "dtype: int64\n"
          ]
        }
      ]
    },
    {
      "cell_type": "markdown",
      "source": [
        "\n",
        "### 3. **Merge Categories in Categorical Variables**\n",
        "   - If you have categorical variables with many rare categories or unnecessary complexity, you may want to merge certain categories to simplify the model.\n",
        "   - For instance, if a categorical variable has several infrequent categories that aren't important for the analysis, you can combine them into a single \"Other\" category.\n",
        "   \n",
        "   Example:\n",
        "   ```python\n",
        "   # Example: Merging rare categories in 'breast-quad' column\n",
        "   X['breast-quad'] = X['breast-quad'].replace({'I': 'Other', 'II': 'Other'})\n",
        "   ```\n",
        "\n",
        "   - You can also group categories that have a similar meaning or impact in the model.\n",
        "   \n",
        "### 4. **Encoding Categorical Variables**\n",
        "   - Categorical variables need to be encoded into a numerical format for machine learning models. You can do this using:\n",
        "     - **One-hot encoding**: For categorical variables with no inherent order (e.g., \"yes\", \"no\").\n",
        "     - **Label encoding**: For ordinal variables (e.g., categories with a clear order like \"low\", \"medium\", \"high\").\n",
        "\n",
        "   Example:\n",
        "   ```python\n",
        "   # One-hot encode 'menopause' column\n",
        "   X = pd.get_dummies(X, columns=['menopause'])\n",
        "\n",
        "   # Label encode 'node-caps' column\n",
        "   from sklearn.preprocessing import LabelEncoder\n",
        "   le = LabelEncoder()\n",
        "   X['node-caps'] = le.fit_transform(X['node-caps'])\n",
        "   ```\n",
        "\n",
        "### 7. **Outlier Detection and Removal**\n",
        "   - Outliers can have a significant impact on certain machine learning algorithms. You can use statistical methods to detect and remove outliers if needed.\n",
        "   - For instance, using the **IQR (Interquartile Range)** method or **Z-scores** to identify and handle outliers.\n",
        "\n",
        "### 8. **Balancing the Dataset (if necessary)**\n",
        "   - If you have an imbalanced dataset (e.g., many more instances of one class in the target variable), you might need to apply techniques like:\n",
        "     - **Oversampling** the minority class (e.g., using SMOTE).\n",
        "     - **Undersampling** the majority class.\n",
        "\n",
        "---\n",
        "\n",
        "### Summary\n",
        "\n",
        "- **Imputation**: Handle missing data appropriately (mean, mode, KNN, etc.).\n",
        "- **Transformations**: Log-transform skewed variables to improve distribution.\n",
        "- **Merge Categories**: Simplify categories in categorical features where necessary.\n",
        "- **Encoding**: Encode categorical variables so they can be used by machine learning algorithms.\n",
        "- **Scaling**: Normalize or standardize features, especially when they have different scales.\n",
        "- **Feature Engineering**: Create new features that may better represent the underlying data.\n",
        "- **Outlier Removal**: Detect and handle outliers if they significantly affect the model.\n",
        "- **Balance Data**: Address class imbalance if your dataset is skewed.\n",
        "\n",
        "These steps will help make your dataset ready for building models. Let me know if you'd like further details on any of the steps!"
      ],
      "metadata": {
        "id": "0H2aIkpphiEH"
      }
    },
    {
      "cell_type": "code",
      "source": [
        "for column in ['age', 'tumor-size', 'inv-nodes']:\n",
        "    print(f\"Unique values in {column}: {X[column].unique()}\")"
      ],
      "metadata": {
        "colab": {
          "base_uri": "https://localhost:8080/",
          "height": 0
        },
        "id": "qLpWXOXl1X7b",
        "outputId": "d1fc7bb7-8b23-47a0-8f1e-7d2a703144b0"
      },
      "execution_count": 935,
      "outputs": [
        {
          "output_type": "stream",
          "name": "stdout",
          "text": [
            "Unique values in age: ['30-39' '40-49' '60-69' '50-59' '70-79' '20-29']\n",
            "Unique values in tumor-size: ['30-34' '20-24' '15-19' '0-4' '25-29' '50-54' '14-Oct' '40-44' '35-39'\n",
            " '9-May' '45-49']\n",
            "Unique values in inv-nodes: ['0-2' '8-Jun' '11-Sep' '5-Mar' '15-17' '14-Dec' '24-26']\n"
          ]
        }
      ]
    },
    {
      "cell_type": "code",
      "source": [
        "# Define mapping for tumor-size and inv-nodes corrections\n",
        "tumor_size_corrections = {\n",
        "    '14-Oct': '10-14',\n",
        "    '9-May': '5-9',\n",
        "}\n",
        "\n",
        "inv_nodes_corrections = {\n",
        "    '8-Jun': '6-8',\n",
        "    '11-Sep': '9-11',\n",
        "    '5-Mar': '3-5',\n",
        "    '14-Dec': '12-14',\n",
        "}\n",
        "\n",
        "# Apply corrections to tumor-size using .loc\n",
        "X.loc[:, 'tumor-size'] = X['tumor-size'].replace(tumor_size_corrections)\n",
        "\n",
        "# Apply corrections to inv-nodes using .loc\n",
        "X.loc[:, 'inv-nodes'] = X['inv-nodes'].replace(inv_nodes_corrections)\n",
        "\n"
      ],
      "metadata": {
        "id": "kb4WpXhc2B2T"
      },
      "execution_count": 936,
      "outputs": []
    },
    {
      "cell_type": "code",
      "source": [
        "print(\"Unique values in tumor-size:\", X['tumor-size'].unique())\n",
        "print(\"Unique values in inv-nodes:\", X['inv-nodes'].unique())"
      ],
      "metadata": {
        "colab": {
          "base_uri": "https://localhost:8080/",
          "height": 0
        },
        "id": "klK0wIUC2NI6",
        "outputId": "dc182d85-4c23-4de0-ac1b-3bb4adf3ab1b"
      },
      "execution_count": 937,
      "outputs": [
        {
          "output_type": "stream",
          "name": "stdout",
          "text": [
            "Unique values in tumor-size: ['30-34' '20-24' '15-19' '0-4' '25-29' '50-54' '10-14' '40-44' '35-39'\n",
            " '5-9' '45-49']\n",
            "Unique values in inv-nodes: ['0-2' '6-8' '9-11' '3-5' '15-17' '12-14' '24-26']\n"
          ]
        }
      ]
    },
    {
      "cell_type": "code",
      "source": [
        "print(X[['age', 'tumor-size', 'inv-nodes']].head())  # Check the first few rows of the columns\n"
      ],
      "metadata": {
        "colab": {
          "base_uri": "https://localhost:8080/",
          "height": 0
        },
        "id": "4F1WnhGP4V4K",
        "outputId": "1efd2acd-2e34-4aa7-c8c4-2931380c8c9e"
      },
      "execution_count": 938,
      "outputs": [
        {
          "output_type": "stream",
          "name": "stdout",
          "text": [
            "     age tumor-size inv-nodes\n",
            "0  30-39      30-34       0-2\n",
            "1  40-49      20-24       0-2\n",
            "2  40-49      20-24       0-2\n",
            "3  60-69      15-19       0-2\n",
            "4  40-49        0-4       0-2\n"
          ]
        }
      ]
    },
    {
      "cell_type": "code",
      "source": [
        "print(X[['age', 'tumor-size', 'inv-nodes']].dtypes)  # Remove the parentheses after dtypes"
      ],
      "metadata": {
        "colab": {
          "base_uri": "https://localhost:8080/",
          "height": 0
        },
        "id": "26FBBRIY4YUZ",
        "outputId": "133de365-7dd9-4675-e33c-b24b6da43096"
      },
      "execution_count": 939,
      "outputs": [
        {
          "output_type": "stream",
          "name": "stdout",
          "text": [
            "age           object\n",
            "tumor-size    object\n",
            "inv-nodes     object\n",
            "dtype: object\n"
          ]
        }
      ]
    },
    {
      "cell_type": "code",
      "source": [
        "import pandas as pd\n",
        "import numpy as np\n",
        "\n",
        "# Define the conversion function to handle ranges\n",
        "def convert_range_to_midpoint(value):\n",
        "    if isinstance(value, str):\n",
        "        value = value.strip()  # Remove extra spaces\n",
        "    if isinstance(value, str) and '-' in value:  # Check for range\n",
        "        try:\n",
        "            lower, upper = map(int, value.split('-'))  # Split into bounds\n",
        "            return (lower + upper) / 2  # Calculate midpoint\n",
        "        except ValueError:\n",
        "            return np.nan  # If conversion fails, return NaN\n",
        "    try:\n",
        "        return float(value)  # If it's already a number\n",
        "    except ValueError:\n",
        "        return np.nan  # Non-convertible values to NaN\n",
        "\n",
        "# Apply conversion to the columns and enforce float data type\n",
        "X.loc[:, 'age'] = X['age'].apply(convert_range_to_midpoint)\n",
        "X['age'] = X['age'].astype(float)  # Ensure data type is float\n",
        "\n",
        "X.loc[:, 'tumor-size'] = X['tumor-size'].apply(convert_range_to_midpoint)\n",
        "X['tumor-size'] = X['tumor-size'].astype(float)\n",
        "\n",
        "X.loc[:, 'inv-nodes'] = X['inv-nodes'].apply(convert_range_to_midpoint)\n",
        "X['inv-nodes'] = X['inv-nodes'].astype(float)\n",
        "\n",
        "\n",
        "# Check results\n",
        "print(\"Data types after forced conversion to float:\")\n",
        "print(X[['age', 'tumor-size', 'inv-nodes']].dtypes)\n",
        "print(\"First few rows of the data:\")\n",
        "print(X[['age', 'tumor-size', 'inv-nodes']].head())\n"
      ],
      "metadata": {
        "colab": {
          "base_uri": "https://localhost:8080/",
          "height": 0
        },
        "id": "u_ZUrOhJ8Vmw",
        "outputId": "706766d3-141a-4cb9-da7f-121498d33c22"
      },
      "execution_count": 940,
      "outputs": [
        {
          "output_type": "stream",
          "name": "stdout",
          "text": [
            "Data types after forced conversion to float:\n",
            "age           float64\n",
            "tumor-size    float64\n",
            "inv-nodes     float64\n",
            "dtype: object\n",
            "First few rows of the data:\n",
            "    age  tumor-size  inv-nodes\n",
            "0  34.5        32.0        1.0\n",
            "1  44.5        22.0        1.0\n",
            "2  44.5        22.0        1.0\n",
            "3  64.5        17.0        1.0\n",
            "4  44.5         2.0        1.0\n"
          ]
        },
        {
          "output_type": "stream",
          "name": "stderr",
          "text": [
            "<ipython-input-940-4d2c617348dd>:21: SettingWithCopyWarning: \n",
            "A value is trying to be set on a copy of a slice from a DataFrame.\n",
            "Try using .loc[row_indexer,col_indexer] = value instead\n",
            "\n",
            "See the caveats in the documentation: https://pandas.pydata.org/pandas-docs/stable/user_guide/indexing.html#returning-a-view-versus-a-copy\n",
            "  X['age'] = X['age'].astype(float)  # Ensure data type is float\n",
            "<ipython-input-940-4d2c617348dd>:24: SettingWithCopyWarning: \n",
            "A value is trying to be set on a copy of a slice from a DataFrame.\n",
            "Try using .loc[row_indexer,col_indexer] = value instead\n",
            "\n",
            "See the caveats in the documentation: https://pandas.pydata.org/pandas-docs/stable/user_guide/indexing.html#returning-a-view-versus-a-copy\n",
            "  X['tumor-size'] = X['tumor-size'].astype(float)\n",
            "<ipython-input-940-4d2c617348dd>:27: SettingWithCopyWarning: \n",
            "A value is trying to be set on a copy of a slice from a DataFrame.\n",
            "Try using .loc[row_indexer,col_indexer] = value instead\n",
            "\n",
            "See the caveats in the documentation: https://pandas.pydata.org/pandas-docs/stable/user_guide/indexing.html#returning-a-view-versus-a-copy\n",
            "  X['inv-nodes'] = X['inv-nodes'].astype(float)\n"
          ]
        }
      ]
    },
    {
      "cell_type": "code",
      "source": [
        "# Check skewness of numeric columns\n",
        "skewness = X[['age', 'tumor-size', 'inv-nodes']].skew()\n",
        "\n",
        "print(\"Skewness of the numeric columns:\")\n",
        "print(skewness)"
      ],
      "metadata": {
        "colab": {
          "base_uri": "https://localhost:8080/",
          "height": 0
        },
        "id": "RxSkkmvp-HEM",
        "outputId": "97603465-2ae7-4b5d-b961-4d0622e87f54"
      },
      "execution_count": 941,
      "outputs": [
        {
          "output_type": "stream",
          "name": "stdout",
          "text": [
            "Skewness of the numeric columns:\n",
            "age           0.015804\n",
            "tumor-size    0.055714\n",
            "inv-nodes     2.924955\n",
            "dtype: float64\n"
          ]
        }
      ]
    },
    {
      "cell_type": "code",
      "source": [
        "# Apply log transformation safely using .loc[]\n",
        "#X.loc[:, 'inv-nodes'] = np.sqrt(X['inv-nodes']) #skew : 1.980980\n",
        "#X.loc[:, 'inv-nodes'] = np.log(X['inv-nodes']) #skew :  1.469077\n",
        "#X.loc[:, 'inv-nodes'] = np.sqrt(X['inv-nodes']) #skew = 1.980980\n",
        "#from scipy import stats\n",
        "X.loc[:, 'inv-nodes'], _ = stats.boxcox(X['inv-nodes']) #skew = 1.133\n",
        "#X.loc[:, 'inv-nodes'] = X['inv-nodes'] ** 2  # Square the column #skew = 6.116313\n",
        "#X.loc[:,'inv-nodes'] = X['inv-nodes'] ** (1/3)  # Cube root transformation skew = 1.767720\n",
        "#from sklearn.preprocessing import StandardScaler\n",
        "#scaler = StandardScaler()\n",
        "#X.loc[:,'inv-nodes'] = scaler.fit_transform(X[['inv-nodes']]) #skew: 2.924955\n",
        "\n"
      ],
      "metadata": {
        "id": "lSaww0_K-Sg5"
      },
      "execution_count": 942,
      "outputs": []
    },
    {
      "cell_type": "markdown",
      "source": [
        "After trial and error, we pick the Box-cox transformation: provides the best reduction in skewness\n",
        "\n"
      ],
      "metadata": {
        "id": "8HOOTThwAmD5"
      }
    },
    {
      "cell_type": "code",
      "source": [
        "# Check skewness again after log transformation\n",
        "print(\"Skewness of the numeric columns after transformation:\")\n",
        "print(X[['age', 'tumor-size', 'inv-nodes']].skew())\n"
      ],
      "metadata": {
        "colab": {
          "base_uri": "https://localhost:8080/",
          "height": 0
        },
        "id": "Q0Emmf-w-iAz",
        "outputId": "b9e46f6d-896d-4896-e9da-9bb4fb272134"
      },
      "execution_count": 943,
      "outputs": [
        {
          "output_type": "stream",
          "name": "stdout",
          "text": [
            "Skewness of the numeric columns after transformation:\n",
            "age           0.015804\n",
            "tumor-size    0.055714\n",
            "inv-nodes     1.133308\n",
            "dtype: float64\n"
          ]
        }
      ]
    },
    {
      "cell_type": "markdown",
      "source": [
        "# Step 4\n",
        "\n",
        "Consider a specific business setting. Create an imaginary scenario where building a predictive model is necessary. Explain whose perspective you are adopting and how the predictions will be used.\n",
        "\n",
        "The dataset, obtained from the University Medical Centre, Institute of Oncology, Ljubljana, Yugoslavia, tracks breast cancer patients. The goal is to predict which patients are likely to experience cancer recurrence or remission post-treatment, guiding personalized care and monitoring plans.\n",
        "\n",
        "As an Oncology Care Coordinator, I oversee patient follow-ups and allocate resources and treatment to high-risk patients.\n",
        "\n",
        "**Why Build a Predictive Model?**:\n",
        "Limited resources necessitate prioritizing high-risk patients. The model will estimate recurrence probability using features like age, menopause status, tumor size, involved lymph nodes, node caps, degree of malignancy, breast location, and irradiation history.\n",
        "\n",
        "**How the Predictions Will Be Used**:\n",
        "1. **High-Risk Patients**: Intensive monitoring, frequent check-ups, advanced imaging, and early interventions.\n",
        "2. **Moderate-Risk Patients**: Balanced follow-up with routine tests and education.\n",
        "3. **Low-Risk Patients**: Standard care protocols to reduce resource strain.\n",
        "4. **Preventative Counseling**: Personalized advice on lifestyle changes and therapy adherence.\n",
        "5. **Healthcare Planning**: Optimize staffing and resource allocation.\n",
        "\n",
        "**Example Output**:\n",
        "- **Recurrence Probability**: Likelihood of recurrence for each patient.\n",
        "- **Feature Importance**: Key risk factors (e.g., tumor size, lymph nodes involved).\n",
        "\n",
        "This model ensures timely interventions for high-risk patients and optimizes hospital resources, improving overall patient outcomes."
      ],
      "metadata": {
        "id": "cil0c9gKGWb7"
      }
    },
    {
      "cell_type": "markdown",
      "source": [
        "# Step 5\n",
        "\n",
        "In this context, where the goal is to predict the recurrence of breast cancer in patients.\n",
        "- A false positive happens when the model incorrectly predicts that a patient has a high risk of breast - cancer recurrence when the patient has low risk in reality.\n",
        "- A false negative happens when the model incorrectly predicts that a patient does not have a high risk of breast - cancer recurrence when they do in reality.\n",
        "\n",
        "False positive consequences: The patient will undergo unnecessary medical treatment and surveillance, possibly causing emotional distress, potential side effects from treatments and the overuse of medical resources.\n",
        "\n",
        "False negative consequences: A patient with undetected high risk may not receive adequate monitoring or early intervention, allowing the cancer to progress. This can make treatment more difficult or even impossible, leading to worse outcomes for the patient.\n",
        "\n",
        "In this context, a false negative is generally more costly than a false positive because undetected recurrences can lead to worse outcomes, including advanced cancer that is harder to treat and has a higher chance of mortality. The costs of treating advanced cancer, including emergency care or hospitalization, are far greater than the costs of additional follow-up for a false positive.\n",
        "\n",
        "\n",
        "**summary : **\n",
        "* False Positive: The model incorrectly predicts a recurrence, leading to unnecessary treatments and tests.\n",
        "* False Negative: The model fails to detect a recurrence, potentially allowing the cancer to progress and result in worse outcomes or even death.\n",
        "* Costlier: A false negative is costlier because it could lead to worse health outcomes, more aggressive treatments later on, and increased healthcare costs.\n"
      ],
      "metadata": {
        "id": "l99hbfZ7Ky3l"
      }
    },
    {
      "cell_type": "markdown",
      "source": [
        "The **cost ratio** of a **false positive** error to a **false negative** error is approximately **0.50776**. This means that a false positive is about **half the cost** of a false negative.\n",
        "\n",
        "*   False Positive (FP): The incremental lifetime economic burden is $58 900 per patient\n",
        "\n",
        "*   False Negative (FN): The incremental lifetime economic burden is $116 000 per patient.\n",
        "\n",
        "\n",
        "\n",
        "This ratio is determined by dividing the cost of a false positive by the cost of a false negative, which indicates that missed diagnoses (false negatives) result in **higher costs** due to the need for more intensive treatments and worse health outcomes, while false positives primarily lead to unnecessary treatments and follow-ups.\n",
        "\n",
        "**Source**: Garrison Jr., L.P., Babigumira, J.B., Masaquel, A., Wang, B.C.M., Lalla, D., & Brammer, M. (2015). The Lifetime Economic Burden of Inaccurate HER2 Testing: Estimating the Costs of False-Positive and False-Negative HER2 Test Results in US Patients with Early-Stage Breast Cancer. *Value in Health, 18*(3), 301-307. DOI: [10.1016/j.jval.2015.01.012](https://doi.org/10.1016/j.jval.2015.01.012)."
      ],
      "metadata": {
        "id": "bLWq388VQ57z"
      }
    },
    {
      "cell_type": "markdown",
      "source": [
        "# Step 6"
      ],
      "metadata": {
        "id": "FgrG-trYUC5d"
      }
    },
    {
      "cell_type": "code",
      "source": [
        "def calculate_cost(y_actual, y_pred):\n",
        "\n",
        "    # Calculate false positives (FP): predicted 1, actual 0\n",
        "    FP = sum(1 for actual, pred in zip(y_actual, y_pred) if actual == 0 and pred == 1)\n",
        "\n",
        "    # Calculate false negatives (FN): predicted 0, actual 1\n",
        "    FN = sum(1 for actual, pred in zip(y_actual, y_pred) if actual == 1 and pred == 0)\n",
        "\n",
        "    # Cost values based on the previous scenario\n",
        "    cost_FP = 58900  # Cost of false positive\n",
        "    cost_FN = 116000  # Cost of false negative\n",
        "\n",
        "    # Calculate total cost\n",
        "    total_cost = (cost_FN * FN) + (cost_FP * FP)\n",
        "\n",
        "    return total_cost"
      ],
      "metadata": {
        "id": "WAR_XDwCTsAl"
      },
      "execution_count": 944,
      "outputs": []
    },
    {
      "cell_type": "markdown",
      "source": [
        "# Step 7"
      ],
      "metadata": {
        "id": "54p5_Fg1UEp7"
      }
    },
    {
      "cell_type": "code",
      "source": [
        "import numpy as np\n",
        "\n",
        "# Generate 100 candidate thresholds between 0 and 1 (inclusive)\n",
        "thresholds = np.linspace(0, 1, 100)\n",
        "\n",
        "# Print the candidate thresholds\n",
        "print(thresholds)\n"
      ],
      "metadata": {
        "colab": {
          "base_uri": "https://localhost:8080/",
          "height": 0
        },
        "id": "ulB7slLbUYjw",
        "outputId": "48c516a0-fe80-436e-b1f4-57ec831abe86"
      },
      "execution_count": 945,
      "outputs": [
        {
          "output_type": "stream",
          "name": "stdout",
          "text": [
            "[0.         0.01010101 0.02020202 0.03030303 0.04040404 0.05050505\n",
            " 0.06060606 0.07070707 0.08080808 0.09090909 0.1010101  0.11111111\n",
            " 0.12121212 0.13131313 0.14141414 0.15151515 0.16161616 0.17171717\n",
            " 0.18181818 0.19191919 0.2020202  0.21212121 0.22222222 0.23232323\n",
            " 0.24242424 0.25252525 0.26262626 0.27272727 0.28282828 0.29292929\n",
            " 0.3030303  0.31313131 0.32323232 0.33333333 0.34343434 0.35353535\n",
            " 0.36363636 0.37373737 0.38383838 0.39393939 0.4040404  0.41414141\n",
            " 0.42424242 0.43434343 0.44444444 0.45454545 0.46464646 0.47474747\n",
            " 0.48484848 0.49494949 0.50505051 0.51515152 0.52525253 0.53535354\n",
            " 0.54545455 0.55555556 0.56565657 0.57575758 0.58585859 0.5959596\n",
            " 0.60606061 0.61616162 0.62626263 0.63636364 0.64646465 0.65656566\n",
            " 0.66666667 0.67676768 0.68686869 0.6969697  0.70707071 0.71717172\n",
            " 0.72727273 0.73737374 0.74747475 0.75757576 0.76767677 0.77777778\n",
            " 0.78787879 0.7979798  0.80808081 0.81818182 0.82828283 0.83838384\n",
            " 0.84848485 0.85858586 0.86868687 0.87878788 0.88888889 0.8989899\n",
            " 0.90909091 0.91919192 0.92929293 0.93939394 0.94949495 0.95959596\n",
            " 0.96969697 0.97979798 0.98989899 1.        ]\n"
          ]
        }
      ]
    },
    {
      "cell_type": "markdown",
      "source": [
        "# Step 8"
      ],
      "metadata": {
        "id": "OqesPIDfUtVR"
      }
    },
    {
      "cell_type": "code",
      "source": [
        "x = ...  # Replace with your actual feature matrix\n",
        "y = ...  # Replace with your actual target variable"
      ],
      "metadata": {
        "id": "yLFh1y9Ta1Ij"
      },
      "execution_count": null,
      "outputs": []
    },
    {
      "cell_type": "markdown",
      "source": [
        "**REVOIR !!!**"
      ],
      "metadata": {
        "id": "llq_V1FYa2IX"
      }
    },
    {
      "cell_type": "code",
      "source": [
        "matrix = np.zeros((100, 10))\n",
        "\n",
        "# Print the matrix to verify\n",
        "print(matrix)"
      ],
      "metadata": {
        "colab": {
          "base_uri": "https://localhost:8080/",
          "height": 0
        },
        "id": "ByUacK3XU2pY",
        "outputId": "45cc4848-95ba-4018-8ad1-46af670cd663"
      },
      "execution_count": 950,
      "outputs": [
        {
          "output_type": "stream",
          "name": "stdout",
          "text": [
            "[[0. 0. 0. 0. 0. 0. 0. 0. 0. 0.]\n",
            " [0. 0. 0. 0. 0. 0. 0. 0. 0. 0.]\n",
            " [0. 0. 0. 0. 0. 0. 0. 0. 0. 0.]\n",
            " [0. 0. 0. 0. 0. 0. 0. 0. 0. 0.]\n",
            " [0. 0. 0. 0. 0. 0. 0. 0. 0. 0.]\n",
            " [0. 0. 0. 0. 0. 0. 0. 0. 0. 0.]\n",
            " [0. 0. 0. 0. 0. 0. 0. 0. 0. 0.]\n",
            " [0. 0. 0. 0. 0. 0. 0. 0. 0. 0.]\n",
            " [0. 0. 0. 0. 0. 0. 0. 0. 0. 0.]\n",
            " [0. 0. 0. 0. 0. 0. 0. 0. 0. 0.]\n",
            " [0. 0. 0. 0. 0. 0. 0. 0. 0. 0.]\n",
            " [0. 0. 0. 0. 0. 0. 0. 0. 0. 0.]\n",
            " [0. 0. 0. 0. 0. 0. 0. 0. 0. 0.]\n",
            " [0. 0. 0. 0. 0. 0. 0. 0. 0. 0.]\n",
            " [0. 0. 0. 0. 0. 0. 0. 0. 0. 0.]\n",
            " [0. 0. 0. 0. 0. 0. 0. 0. 0. 0.]\n",
            " [0. 0. 0. 0. 0. 0. 0. 0. 0. 0.]\n",
            " [0. 0. 0. 0. 0. 0. 0. 0. 0. 0.]\n",
            " [0. 0. 0. 0. 0. 0. 0. 0. 0. 0.]\n",
            " [0. 0. 0. 0. 0. 0. 0. 0. 0. 0.]\n",
            " [0. 0. 0. 0. 0. 0. 0. 0. 0. 0.]\n",
            " [0. 0. 0. 0. 0. 0. 0. 0. 0. 0.]\n",
            " [0. 0. 0. 0. 0. 0. 0. 0. 0. 0.]\n",
            " [0. 0. 0. 0. 0. 0. 0. 0. 0. 0.]\n",
            " [0. 0. 0. 0. 0. 0. 0. 0. 0. 0.]\n",
            " [0. 0. 0. 0. 0. 0. 0. 0. 0. 0.]\n",
            " [0. 0. 0. 0. 0. 0. 0. 0. 0. 0.]\n",
            " [0. 0. 0. 0. 0. 0. 0. 0. 0. 0.]\n",
            " [0. 0. 0. 0. 0. 0. 0. 0. 0. 0.]\n",
            " [0. 0. 0. 0. 0. 0. 0. 0. 0. 0.]\n",
            " [0. 0. 0. 0. 0. 0. 0. 0. 0. 0.]\n",
            " [0. 0. 0. 0. 0. 0. 0. 0. 0. 0.]\n",
            " [0. 0. 0. 0. 0. 0. 0. 0. 0. 0.]\n",
            " [0. 0. 0. 0. 0. 0. 0. 0. 0. 0.]\n",
            " [0. 0. 0. 0. 0. 0. 0. 0. 0. 0.]\n",
            " [0. 0. 0. 0. 0. 0. 0. 0. 0. 0.]\n",
            " [0. 0. 0. 0. 0. 0. 0. 0. 0. 0.]\n",
            " [0. 0. 0. 0. 0. 0. 0. 0. 0. 0.]\n",
            " [0. 0. 0. 0. 0. 0. 0. 0. 0. 0.]\n",
            " [0. 0. 0. 0. 0. 0. 0. 0. 0. 0.]\n",
            " [0. 0. 0. 0. 0. 0. 0. 0. 0. 0.]\n",
            " [0. 0. 0. 0. 0. 0. 0. 0. 0. 0.]\n",
            " [0. 0. 0. 0. 0. 0. 0. 0. 0. 0.]\n",
            " [0. 0. 0. 0. 0. 0. 0. 0. 0. 0.]\n",
            " [0. 0. 0. 0. 0. 0. 0. 0. 0. 0.]\n",
            " [0. 0. 0. 0. 0. 0. 0. 0. 0. 0.]\n",
            " [0. 0. 0. 0. 0. 0. 0. 0. 0. 0.]\n",
            " [0. 0. 0. 0. 0. 0. 0. 0. 0. 0.]\n",
            " [0. 0. 0. 0. 0. 0. 0. 0. 0. 0.]\n",
            " [0. 0. 0. 0. 0. 0. 0. 0. 0. 0.]\n",
            " [0. 0. 0. 0. 0. 0. 0. 0. 0. 0.]\n",
            " [0. 0. 0. 0. 0. 0. 0. 0. 0. 0.]\n",
            " [0. 0. 0. 0. 0. 0. 0. 0. 0. 0.]\n",
            " [0. 0. 0. 0. 0. 0. 0. 0. 0. 0.]\n",
            " [0. 0. 0. 0. 0. 0. 0. 0. 0. 0.]\n",
            " [0. 0. 0. 0. 0. 0. 0. 0. 0. 0.]\n",
            " [0. 0. 0. 0. 0. 0. 0. 0. 0. 0.]\n",
            " [0. 0. 0. 0. 0. 0. 0. 0. 0. 0.]\n",
            " [0. 0. 0. 0. 0. 0. 0. 0. 0. 0.]\n",
            " [0. 0. 0. 0. 0. 0. 0. 0. 0. 0.]\n",
            " [0. 0. 0. 0. 0. 0. 0. 0. 0. 0.]\n",
            " [0. 0. 0. 0. 0. 0. 0. 0. 0. 0.]\n",
            " [0. 0. 0. 0. 0. 0. 0. 0. 0. 0.]\n",
            " [0. 0. 0. 0. 0. 0. 0. 0. 0. 0.]\n",
            " [0. 0. 0. 0. 0. 0. 0. 0. 0. 0.]\n",
            " [0. 0. 0. 0. 0. 0. 0. 0. 0. 0.]\n",
            " [0. 0. 0. 0. 0. 0. 0. 0. 0. 0.]\n",
            " [0. 0. 0. 0. 0. 0. 0. 0. 0. 0.]\n",
            " [0. 0. 0. 0. 0. 0. 0. 0. 0. 0.]\n",
            " [0. 0. 0. 0. 0. 0. 0. 0. 0. 0.]\n",
            " [0. 0. 0. 0. 0. 0. 0. 0. 0. 0.]\n",
            " [0. 0. 0. 0. 0. 0. 0. 0. 0. 0.]\n",
            " [0. 0. 0. 0. 0. 0. 0. 0. 0. 0.]\n",
            " [0. 0. 0. 0. 0. 0. 0. 0. 0. 0.]\n",
            " [0. 0. 0. 0. 0. 0. 0. 0. 0. 0.]\n",
            " [0. 0. 0. 0. 0. 0. 0. 0. 0. 0.]\n",
            " [0. 0. 0. 0. 0. 0. 0. 0. 0. 0.]\n",
            " [0. 0. 0. 0. 0. 0. 0. 0. 0. 0.]\n",
            " [0. 0. 0. 0. 0. 0. 0. 0. 0. 0.]\n",
            " [0. 0. 0. 0. 0. 0. 0. 0. 0. 0.]\n",
            " [0. 0. 0. 0. 0. 0. 0. 0. 0. 0.]\n",
            " [0. 0. 0. 0. 0. 0. 0. 0. 0. 0.]\n",
            " [0. 0. 0. 0. 0. 0. 0. 0. 0. 0.]\n",
            " [0. 0. 0. 0. 0. 0. 0. 0. 0. 0.]\n",
            " [0. 0. 0. 0. 0. 0. 0. 0. 0. 0.]\n",
            " [0. 0. 0. 0. 0. 0. 0. 0. 0. 0.]\n",
            " [0. 0. 0. 0. 0. 0. 0. 0. 0. 0.]\n",
            " [0. 0. 0. 0. 0. 0. 0. 0. 0. 0.]\n",
            " [0. 0. 0. 0. 0. 0. 0. 0. 0. 0.]\n",
            " [0. 0. 0. 0. 0. 0. 0. 0. 0. 0.]\n",
            " [0. 0. 0. 0. 0. 0. 0. 0. 0. 0.]\n",
            " [0. 0. 0. 0. 0. 0. 0. 0. 0. 0.]\n",
            " [0. 0. 0. 0. 0. 0. 0. 0. 0. 0.]\n",
            " [0. 0. 0. 0. 0. 0. 0. 0. 0. 0.]\n",
            " [0. 0. 0. 0. 0. 0. 0. 0. 0. 0.]\n",
            " [0. 0. 0. 0. 0. 0. 0. 0. 0. 0.]\n",
            " [0. 0. 0. 0. 0. 0. 0. 0. 0. 0.]\n",
            " [0. 0. 0. 0. 0. 0. 0. 0. 0. 0.]\n",
            " [0. 0. 0. 0. 0. 0. 0. 0. 0. 0.]\n",
            " [0. 0. 0. 0. 0. 0. 0. 0. 0. 0.]]\n"
          ]
        }
      ]
    },
    {
      "cell_type": "code",
      "source": [
        "# Example data length\n",
        "y = np.random.rand(100)  # Assuming 100 data points (replace with actual y values)\n",
        "\n",
        "# Step 1: Generate repeated sequences of numbers 1 through 10 until the sequence length matches the total number of data points\n",
        "n = np.ceil(len(y) / 10)  # To ensure each fold gets at least one data point\n",
        "fold_vec = np.concatenate([np.arange(1, 11)] * int(n))\n",
        "\n",
        "# Step 2: Trim the sequence to match the exact number of data points\n",
        "fold_vec = fold_vec[0:len(y)]\n",
        "\n",
        "# Step 3: Shuffle the sequence randomly\n",
        "np.random.seed(1)  # For reproducibility\n",
        "fold_vec = np.random.permutation(fold_vec)\n",
        "\n",
        "# Print the final fold vector\n",
        "print(fold_vec)\n"
      ],
      "metadata": {
        "colab": {
          "base_uri": "https://localhost:8080/",
          "height": 0
        },
        "id": "Q5tFx1rWVZh5",
        "outputId": "39a71b6a-aea7-4991-b74f-32cbd3d231e4"
      },
      "execution_count": 951,
      "outputs": [
        {
          "output_type": "stream",
          "name": "stdout",
          "text": [
            "[ 1  5  4  2  4  8  7  3 10  6  3 10  7  3  2  3  2  5  9  1  3  4  8  3\n",
            " 10  6  5  8  7  9  8 10  5  6  9  1  9 10  4  5  7  4  8  6  4  2  6  2\n",
            "  7  9  4  6  5  5  9 10  2  8  4  5  1  7  1  3  8 10  9  1  1  1  8  3\n",
            "  2  4  8  7  4  9  6  5 10  9  2  9  1  1  6  7  2  7  2  7  5 10  6  6\n",
            " 10  3  3  8]\n"
          ]
        }
      ]
    },
    {
      "cell_type": "markdown",
      "source": [
        "# Step 10"
      ],
      "metadata": {
        "id": "DQxx81hHWSN7"
      }
    },
    {
      "cell_type": "code",
      "source": [
        "# Create a KFold object\n",
        "kf = KFold(n_splits=n_folds, shuffle=True, random_state=42)\n",
        "\n",
        "for i in range(n_folds):\n",
        "    # Determine the test and train indices (using KFold)\n",
        "    train_index, test_index = next(kf.split(x))\n",
        "\n",
        "    # Split data into training and testing sets\n",
        "    x_train, x_test = x[train_index], x[test_index]\n",
        "    y_train, y_test = y[train_index], y[test_index]\n",
        "\n",
        "    # Initialize and fit the logistic regression model\n",
        "    mod = LogisticRegression(max_iter=1000)\n",
        "    mod.fit(x_train, y_train)\n",
        "\n",
        "    # Predict probabilities\n",
        "    prob = mod.predict_proba(x_test)[:, 1]\n",
        "\n",
        "    for j in range(100):\n",
        "        # Make predictions using the current threshold\n",
        "        pred = (prob >= thresholds[j]).astype(int)\n",
        "\n",
        "        # Calculate and store the cost\n",
        "        matrix[j, i] = calculate_cost(y_test, pred)"
      ],
      "metadata": {
        "colab": {
          "base_uri": "https://localhost:8080/",
          "height": 216
        },
        "id": "1Qw6gZ9qbdZF",
        "outputId": "3c2f385e-8f3c-45ff-dc08-8b0df510868f"
      },
      "execution_count": 957,
      "outputs": [
        {
          "output_type": "error",
          "ename": "NameError",
          "evalue": "name 'n_folds' is not defined",
          "traceback": [
            "\u001b[0;31m---------------------------------------------------------------------------\u001b[0m",
            "\u001b[0;31mNameError\u001b[0m                                 Traceback (most recent call last)",
            "\u001b[0;32m<ipython-input-957-1f7db92a22e9>\u001b[0m in \u001b[0;36m<cell line: 0>\u001b[0;34m()\u001b[0m\n\u001b[1;32m      1\u001b[0m \u001b[0;31m# Create a KFold object\u001b[0m\u001b[0;34m\u001b[0m\u001b[0;34m\u001b[0m\u001b[0m\n\u001b[0;32m----> 2\u001b[0;31m \u001b[0mkf\u001b[0m \u001b[0;34m=\u001b[0m \u001b[0mKFold\u001b[0m\u001b[0;34m(\u001b[0m\u001b[0mn_splits\u001b[0m\u001b[0;34m=\u001b[0m\u001b[0mn_folds\u001b[0m\u001b[0;34m,\u001b[0m \u001b[0mshuffle\u001b[0m\u001b[0;34m=\u001b[0m\u001b[0;32mTrue\u001b[0m\u001b[0;34m,\u001b[0m \u001b[0mrandom_state\u001b[0m\u001b[0;34m=\u001b[0m\u001b[0;36m42\u001b[0m\u001b[0;34m)\u001b[0m\u001b[0;34m\u001b[0m\u001b[0;34m\u001b[0m\u001b[0m\n\u001b[0m\u001b[1;32m      3\u001b[0m \u001b[0;34m\u001b[0m\u001b[0m\n\u001b[1;32m      4\u001b[0m \u001b[0;32mfor\u001b[0m \u001b[0mi\u001b[0m \u001b[0;32min\u001b[0m \u001b[0mrange\u001b[0m\u001b[0;34m(\u001b[0m\u001b[0mn_folds\u001b[0m\u001b[0;34m)\u001b[0m\u001b[0;34m:\u001b[0m\u001b[0;34m\u001b[0m\u001b[0;34m\u001b[0m\u001b[0m\n\u001b[1;32m      5\u001b[0m     \u001b[0;31m# Determine the test and train indices (using KFold)\u001b[0m\u001b[0;34m\u001b[0m\u001b[0;34m\u001b[0m\u001b[0m\n",
            "\u001b[0;31mNameError\u001b[0m: name 'n_folds' is not defined"
          ]
        }
      ]
    }
  ]
}